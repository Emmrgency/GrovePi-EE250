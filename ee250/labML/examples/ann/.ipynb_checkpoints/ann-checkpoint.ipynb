{
 "cells": [
  {
   "cell_type": "code",
   "execution_count": 6,
   "id": "8895806a-98b2-48db-a628-92e18a958bce",
   "metadata": {},
   "outputs": [],
   "source": [
    "# MXNET tutorial \n",
    "# https://mxnet.apache.org/versions/1.6.0/api/python/docs/tutorials/getting-started/crash-course/2-nn.html"
   ]
  },
  {
   "cell_type": "code",
   "execution_count": 49,
   "id": "ce2fd819-614f-4ce5-a2be-b63eb6956c2a",
   "metadata": {},
   "outputs": [],
   "source": [
    "from mxnet import nd\n",
    "from mxnet.gluon import nn\n",
    "from mxnet import gluon\n",
    "import pandas as pd\n",
    "import numpy as np\n",
    "\n",
    "from sklearn.model_selection import train_test_split\n",
    "\n",
    "from matplotlib import pyplot as plt\n",
    "plt.rcParams['figure.figsize'] = (10,7)\n",
    "import seaborn as sns"
   ]
  },
  {
   "cell_type": "code",
   "execution_count": 17,
   "id": "464a8daa-8256-4e2b-a68e-067d40f5e8c7",
   "metadata": {},
   "outputs": [
    {
     "data": {
      "text/html": [
       "<div>\n",
       "<style scoped>\n",
       "    .dataframe tbody tr th:only-of-type {\n",
       "        vertical-align: middle;\n",
       "    }\n",
       "\n",
       "    .dataframe tbody tr th {\n",
       "        vertical-align: top;\n",
       "    }\n",
       "\n",
       "    .dataframe thead th {\n",
       "        text-align: right;\n",
       "    }\n",
       "</style>\n",
       "<table border=\"1\" class=\"dataframe\">\n",
       "  <thead>\n",
       "    <tr style=\"text-align: right;\">\n",
       "      <th></th>\n",
       "      <th>Temperature(K)</th>\n",
       "      <th>Luminosity(L/Lo)</th>\n",
       "      <th>Radius(R/Ro)</th>\n",
       "      <th>Absolute magnitude(Mv)</th>\n",
       "      <th>Star type</th>\n",
       "      <th>Star color</th>\n",
       "      <th>Spectral Class</th>\n",
       "    </tr>\n",
       "  </thead>\n",
       "  <tbody>\n",
       "    <tr>\n",
       "      <th>10</th>\n",
       "      <td>3600</td>\n",
       "      <td>0.0029</td>\n",
       "      <td>0.5100</td>\n",
       "      <td>10.690</td>\n",
       "      <td>1</td>\n",
       "      <td>Red</td>\n",
       "      <td>M</td>\n",
       "    </tr>\n",
       "    <tr>\n",
       "      <th>11</th>\n",
       "      <td>3129</td>\n",
       "      <td>0.0122</td>\n",
       "      <td>0.3761</td>\n",
       "      <td>11.790</td>\n",
       "      <td>1</td>\n",
       "      <td>Red</td>\n",
       "      <td>M</td>\n",
       "    </tr>\n",
       "    <tr>\n",
       "      <th>12</th>\n",
       "      <td>3134</td>\n",
       "      <td>0.0004</td>\n",
       "      <td>0.1960</td>\n",
       "      <td>13.210</td>\n",
       "      <td>1</td>\n",
       "      <td>Red</td>\n",
       "      <td>M</td>\n",
       "    </tr>\n",
       "    <tr>\n",
       "      <th>13</th>\n",
       "      <td>3628</td>\n",
       "      <td>0.0055</td>\n",
       "      <td>0.3930</td>\n",
       "      <td>10.480</td>\n",
       "      <td>1</td>\n",
       "      <td>Red</td>\n",
       "      <td>M</td>\n",
       "    </tr>\n",
       "    <tr>\n",
       "      <th>14</th>\n",
       "      <td>2650</td>\n",
       "      <td>0.0006</td>\n",
       "      <td>0.1400</td>\n",
       "      <td>11.782</td>\n",
       "      <td>1</td>\n",
       "      <td>Red</td>\n",
       "      <td>M</td>\n",
       "    </tr>\n",
       "  </tbody>\n",
       "</table>\n",
       "</div>"
      ],
      "text/plain": [
       "    Temperature(K)  Luminosity(L/Lo)  Radius(R/Ro)  Absolute magnitude(Mv)  \\\n",
       "10            3600            0.0029        0.5100                  10.690   \n",
       "11            3129            0.0122        0.3761                  11.790   \n",
       "12            3134            0.0004        0.1960                  13.210   \n",
       "13            3628            0.0055        0.3930                  10.480   \n",
       "14            2650            0.0006        0.1400                  11.782   \n",
       "\n",
       "    Star type Star color Spectral Class  \n",
       "10          1        Red              M  \n",
       "11          1        Red              M  \n",
       "12          1        Red              M  \n",
       "13          1        Red              M  \n",
       "14          1        Red              M  "
      ]
     },
     "execution_count": 17,
     "metadata": {},
     "output_type": "execute_result"
    }
   ],
   "source": [
    "stars = pd.read_csv(\"stars.csv\")\n",
    "dwarfs = stars[(stars[\"Star type\"]==1) | (stars[\"Star type\"]==2) ]\n",
    "dwarfs.head()"
   ]
  },
  {
   "cell_type": "code",
   "execution_count": 18,
   "id": "44844f64-e567-48e1-9f98-9b0c69b66663",
   "metadata": {},
   "outputs": [],
   "source": [
    "X = dwarfs[[\"Temperature(K)\",\"Radius(R/Ro)\"]]\n",
    "y = dwarfs[[\"Star type\"]]"
   ]
  },
  {
   "cell_type": "code",
   "execution_count": 22,
   "id": "b9cee690-adb6-4e95-81f8-73c2cf679fa8",
   "metadata": {},
   "outputs": [],
   "source": [
    "X_train,X_test,y_train,y_test = train_test_split(X,y, test_size=0.2)"
   ]
  },
  {
   "cell_type": "code",
   "execution_count": 30,
   "id": "50b5819d-1a98-4f41-84b0-0514b3eb9eb5",
   "metadata": {},
   "outputs": [
    {
     "data": {
      "text/plain": [
       "<AxesSubplot:xlabel='Temperature(K)', ylabel='Radius(R/Ro)'>"
      ]
     },
     "execution_count": 30,
     "metadata": {},
     "output_type": "execute_result"
    },
    {
     "data": {
      "image/png": "[encoded data removed]",
      "text/plain": [
       "<Figure size 720x504 with 1 Axes>"
      ]
     },
     "metadata": {
      "needs_background": "light"
     },
     "output_type": "display_data"
    }
   ],
   "source": [
    "sns.scatterplot(data=dwarfs,x=\"Temperature(K)\",y=\"Radius(R/Ro)\",hue=\"Star type\")"
   ]
  },
  {
   "cell_type": "code",
   "execution_count": 45,
   "id": "63b4e01e-67cf-43f3-b3c3-068541df28aa",
   "metadata": {},
   "outputs": [
    {
     "data": {
      "text/plain": [
       "Dense(None -> 2, linear)"
      ]
     },
     "execution_count": 45,
     "metadata": {},
     "output_type": "execute_result"
    }
   ],
   "source": [
    "layer = nn.Dense(2)\n",
    "layer"
   ]
  },
  {
   "cell_type": "code",
   "execution_count": 46,
   "id": "d0c18607-9ad2-46fa-9387-4291e556dcb4",
   "metadata": {},
   "outputs": [
    {
     "data": {
      "text/plain": [
       "Sequential(\n",
       "  (0): Dense(None -> 2, Activation(sigmoid))\n",
       "  (1): Dense(None -> 3, Activation(sigmoid))\n",
       "  (2): Dense(None -> 2, linear)\n",
       ")"
      ]
     },
     "execution_count": 46,
     "metadata": {},
     "output_type": "execute_result"
    }
   ],
   "source": [
    "net = nn.Sequential()\n",
    "net.add(\n",
    "        nn.Dense(2, activation=\"sigmoid\"),\n",
    "        nn.Dense(3, activation=\"sigmoid\"),\n",
    "        nn.Dense(2))\n",
    "net"
   ]
  },
  {
   "cell_type": "code",
   "execution_count": 47,
   "id": "ffc5a8f8-01a9-4bc4-a5dc-9aa646854b6d",
   "metadata": {},
   "outputs": [],
   "source": [
    "net.initialize()"
   ]
  },
  {
   "cell_type": "code",
   "execution_count": 50,
   "id": "3c970f1d-d4e8-4011-9b06-c47788780850",
   "metadata": {},
   "outputs": [],
   "source": [
    "softmax_cross_entropy = gluon.loss.SoftmaxCrossEntropyLoss()"
   ]
  },
  {
   "cell_type": "code",
   "execution_count": 51,
   "id": "09aaf85a-8edd-451e-8e8f-a263b571f616",
   "metadata": {},
   "outputs": [],
   "source": [
    "trainer = gluon.Trainer(net.collect_params(), 'sgd', {'learning_rate': 0.1})"
   ]
  },
  {
   "cell_type": "code",
   "execution_count": null,
   "id": "11b9505c-3c0c-4423-befd-4b7a06d76ab7",
   "metadata": {},
   "outputs": [],
   "source": []
  }
 ],
 "metadata": {
  "kernelspec": {
   "display_name": "Python 3 (ipykernel)",
   "language": "python",
   "name": "python3"
  },
  "language_info": {
   "codemirror_mode": {
    "name": "ipython",
    "version": 3
   },
   "file_extension": ".py",
   "mimetype": "text/x-python",
   "name": "python",
   "nbconvert_exporter": "python",
   "pygments_lexer": "ipython3",
   "version": "3.8.10"
  }
 },
 "nbformat": 4,
 "nbformat_minor": 5
}
